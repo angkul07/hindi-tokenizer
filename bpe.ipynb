{
 "cells": [
  {
   "cell_type": "code",
   "execution_count": 19,
   "metadata": {},
   "outputs": [],
   "source": [
    "import unicodedata\n",
    "import re\n",
    "from tokenizers import Tokenizer, models, trainers, pre_tokenizers"
   ]
  },
  {
   "cell_type": "code",
   "execution_count": 20,
   "metadata": {},
   "outputs": [],
   "source": [
    "file_path = \"hi.txt file\""
   ]
  },
  {
   "cell_type": "code",
   "execution_count": 21,
   "metadata": {},
   "outputs": [],
   "source": [
    "with open(file_path, \"r\", encoding=\"utf-8\") as f:\n",
    "    lines = f.readlines()"
   ]
  },
  {
   "cell_type": "code",
   "execution_count": 22,
   "metadata": {},
   "outputs": [
    {
     "name": "stdout",
     "output_type": "stream",
     "text": [
      "Unique words in dataset: 157875\n",
      "18323067\n"
     ]
    }
   ],
   "source": [
    "with open(file_path, \"r\", encoding=\"utf-8\") as f:\n",
    "    text = f.read()\n",
    "\n",
    "unique_words = set(text.split())\n",
    "\n",
    "print(f\"Unique words in dataset: {len(unique_words)}\")\n",
    "print(len(text))\n"
   ]
  },
  {
   "cell_type": "code",
   "execution_count": 23,
   "metadata": {},
   "outputs": [
    {
     "name": "stdout",
     "output_type": "stream",
     "text": [
      "['हवा में उछालकर गोबर के उपले फेंकते हुए आई नजर, देखें वीडियो\\n', ' जनता से रिश्ता वेबडेस्क। Desi Jugaad News: देसी जुगाड़ के मामले में भारतीयों जैसा हुनरमंद शायद ही कोई होता होगा. भारतीय लोग दुनियाभर में अपने टैलंट का जलवा दिखाते हैं. सोशल मीडिया (Social Media) पर आपको हमेशा कोई न कोई ऐसा वीडियो मिल जाएगा, जिसमें एक भारतीय अपने टैलेंट से लोगों का दिल जीत ले. जुगाड़ के मामले में भारत का किसी से भी कोई मुकाबला नहीं है. इन दिनों एक भारतीय महिला के हुनर का वीडियो जमकर वायरल हो रहा है. इस वीडियो में एक महिला गोबर से अपना टैलेंट दिखाती नजर आ रही है.हवा में उछालकर गोबर के उपले फेंकते हुए आई नजरवायरल हो रहे इस वीडियो में एक भारतीय महिला दीवार पर गोबर के उपले लगाती नजर आ रही है. जिस तरह से वह दीवार पर हवा में गोबर को फेंक-फेंककर उपले लगा रही है, उसे देखकर कोई अपनी आंखों पर भरोसा नहीं करेगा. महिला का निशाना देखकर आपको भी हैरानी होगी. आप देख सकते हैं कि महिला एकदम सटीक तरीके से उपलों को सही जगह पर लगा रही है. महिला का निशाना एकदम अचूक नजर आ रहा है. महिला का यह वीडियो सोशल मीडिया पर तेजी से वायरल हो रहा है.देखें वीडियो-\\n', \" IAS ऑफिसर ने वीडियो शेयर कर कही ये बातमहिला के सारे उपले (Cow Dung Cake) बिल्कुल सटीक जगह पर जाकर चिपक रहे हैं. इस वीडियो को देख IAS अधिकारी अवनीश शरण भी हैरान रह गए, उन्होंने अपने ऑफिशियल ट्विटर अकाउंट पर इस चौंकाने वाले वीडियो को शेयर किया है. भारतीय महिला का यह 15 सेकंड का वीडियो इंटरनेट पर धमाल मचा रहा है. वीडियो देखकर हर कोई इस भारतीय महिला की तारीफ कर रहा है. आईएएस अधिकारी ने वीडियो शेयर कर कैप्शन में लिखा, 'भारतीय बास्केट बॉल टीम इस महिला को खोज रही है.'\\n\", 'एकनाथ शिंदे होंगे महाराष्ट्र के नए मुख्यमंत्री - फडणवीस\\n', ' मुंबई । भाजपा नेता देवेंद्र फडणवीस ने गुरुवार को घोषणा करते हुए कहा कि शिवसेना के बागी नेता एकनाथ शिंदे महाराष्ट्र के नए मुख्यमंत्री होंगे। फडणवीस ने शाम को होने वाले शपथ ग्रहण से पहले राज्यपाल भगत सिंह कोश्यारी से मुलाकात के बाद एक संयुक्त संवाददाता सम्मेलन में यह घोषणा की। उनके बागी समूह का समर्थन भाजपा करेगी। यहां एक प्रेस कॉन्फ्रेंस में शिंदे ने कहा कि भाजपा के साथ हमारा स्वाभाविक गठबंधन था। उन्होंने कहा कि हमने जनता की भावना को देखते हुए फैसला लिया है।देवेंद्र फडणवीस ने बताया कि शाम साढ़े सात बजे एकनाथ शिंदे मुख्यमंत्री पद की शपथ लेंगे। फडणवीस ने कहा, \"हमने राज्यपाल से मिलकर सरकार बनाने का दावा पेश किया। राज्यपाल ने हमें साढ़े सात बजे का समय दिया है। मैं सरकार के बाहर रहूंगा और इस सरकार को सफल बनाने के लिए वो सब कुछ करूंगा, जिसकी जरूरत होगी।\"--आईएएनएस \\n']\n"
     ]
    }
   ],
   "source": [
    "print(lines[:5])"
   ]
  },
  {
   "cell_type": "code",
   "execution_count": null,
   "metadata": {},
   "outputs": [
    {
     "name": "stdout",
     "output_type": "stream",
     "text": [
      "Preprocessing completed! 20296 clean sentences saved.\n"
     ]
    }
   ],
   "source": [
    "def normalize_text(text):\n",
    "    return unicodedata.normalize(\"NFKC\", text)\n",
    "\n",
    "def clean_text(text):\n",
    "    text = re.sub(r'[^\\u0900-\\u097F\\s?!।]', '', text)\n",
    "    text = re.sub(r'\\s+', ' ', text).strip()\n",
    "    return text\n",
    "\n",
    "\n",
    "def preprocess_corpus(lines):\n",
    "    processed_lines = []\n",
    "    for line in lines:\n",
    "        line = normalize_text(line)\n",
    "        line = clean_text(line)\n",
    "        processed_lines.append(line)\n",
    "    return processed_lines\n",
    "\n",
    "\n",
    "processed_lines = preprocess_corpus(lines)\n",
    "\n",
    "# Save the cleaned text\n",
    "with open(\"hindi_corpus_cleaned.txt\", \"w\", encoding=\"utf-8\") as f:\n",
    "    for line in processed_lines:\n",
    "        f.write(line + \"\\n\")\n",
    "\n",
    "print(f\"Preprocessing completed! {len(processed_lines)} clean sentences saved.\")\n"
   ]
  },
  {
   "cell_type": "code",
   "execution_count": null,
   "metadata": {},
   "outputs": [
    {
     "name": "stdout",
     "output_type": "stream",
     "text": [
      "\n",
      "\n",
      "\n"
     ]
    }
   ],
   "source": [
    "tokenizer = Tokenizer(models.BPE())\n",
    "\n",
    "# trainer for BPE\n",
    "trainer = trainers.BpeTrainer(vocab_size=150000, min_frequency=1, special_tokens=[\"<unk>\", \"<s>\", \"</s>\"])\n",
    "\n",
    "# Pre-tokenizer\n",
    "tokenizer.pre_tokenizer = pre_tokenizers.Whitespace()\n",
    "\n",
    "# Load Hindi dataset\n",
    "files = [\"hindi_corpus_cleaned.txt\"]\n",
    "tokenizer.train(files, trainer)\n",
    "\n",
    "# Save tokenizer\n",
    "tokenizer.save(\"hindi_tokenizer.json\")"
   ]
  },
  {
   "cell_type": "code",
   "execution_count": 27,
   "metadata": {},
   "outputs": [
    {
     "name": "stdout",
     "output_type": "stream",
     "text": [
      "[1267, 2631, 14127, 4600, 4479, 658]\n"
     ]
    }
   ],
   "source": [
    "from tokenizers import Tokenizer\n",
    "\n",
    "class HindiTokenizer:\n",
    "    def __init__(self, model_path=\"hindi_tokenizer.json\"):\n",
    "        self.tokenizer = Tokenizer.from_file(model_path)\n",
    "\n",
    "    def encode(self, text):\n",
    "        return self.tokenizer.encode(text).ids\n",
    "\n",
    "    def decode(self, token_ids):\n",
    "        return self.tokenizer.decode(token_ids)\n",
    "\n",
    "\n",
    "tokenizer = HindiTokenizer()"
   ]
  },
  {
   "cell_type": "code",
   "execution_count": null,
   "metadata": {},
   "outputs": [
    {
     "name": "stdout",
     "output_type": "stream",
     "text": [
      "110126\n"
     ]
    }
   ],
   "source": [
    "tokenizer = Tokenizer.from_file(\"hindi_tokenizer.json\")\n",
    "vocab_size = tokenizer.get_vocab_size()\n",
    "print(vocab_size)"
   ]
  },
  {
   "cell_type": "code",
   "execution_count": 42,
   "metadata": {},
   "outputs": [],
   "source": [
    "txt = \"ऑनलाइन क्लास में हमेशा अपने पोस्चर (बैठने का आसन) को ठीक रखें। कभी झुककर नहीं बल्कि पीठ को हमेशा सीधा रखें।   Bokaro Coronavirus News Update\""
   ]
  },
  {
   "cell_type": "code",
   "execution_count": 43,
   "metadata": {},
   "outputs": [],
   "source": [
    "tokenizer = HindiTokenizer()"
   ]
  },
  {
   "cell_type": "code",
   "execution_count": 44,
   "metadata": {},
   "outputs": [
    {
     "name": "stdout",
     "output_type": "stream",
     "text": [
      "[1793, 4081, 100, 1851, 285, 28931, 6799, 104, 9707, 102, 1318, 1918, 79, 1302, 55935, 179, 1681, 2855, 102, 1851, 4622, 1918, 79]\n"
     ]
    }
   ],
   "source": [
    "ids = tokenizer.encode(txt)\n",
    "print(ids)"
   ]
  },
  {
   "cell_type": "code",
   "execution_count": 45,
   "metadata": {},
   "outputs": [
    {
     "name": "stdout",
     "output_type": "stream",
     "text": [
      "ऑनलाइन क्लास में हमेशा अपने पोस्चर बैठने का आसन को ठीक रखें । कभी झुककर नहीं बल्कि पीठ को हमेशा सीधा रखें ।\n"
     ]
    }
   ],
   "source": [
    "print(tokenizer.decode(ids))"
   ]
  },
  {
   "cell_type": "code",
   "execution_count": null,
   "metadata": {},
   "outputs": [],
   "source": []
  }
 ],
 "metadata": {
  "kernelspec": {
   "display_name": ".mlenv",
   "language": "python",
   "name": "python3"
  },
  "language_info": {
   "codemirror_mode": {
    "name": "ipython",
    "version": 3
   },
   "file_extension": ".py",
   "mimetype": "text/x-python",
   "name": "python",
   "nbconvert_exporter": "python",
   "pygments_lexer": "ipython3",
   "version": "3.10.12"
  }
 },
 "nbformat": 4,
 "nbformat_minor": 2
}
